{
  "cells": [
    {
      "cell_type": "markdown",
      "metadata": {
        "id": "view-in-github"
      },
      "source": [
        "<a href=\"https://colab.research.google.com/github/unt-iialab/INFO5731_Spring2020/blob/master/In_class_exercise/In_class_exercise_01.ipynb\" target=\"_parent\"><img src=\"https://colab.research.google.com/assets/colab-badge.svg\" alt=\"Open In Colab\"/></a>"
      ]
    },
    {
      "cell_type": "markdown",
      "metadata": {
        "id": "DymRJbxDBCnf"
      },
      "source": [
        "# **This first In-class-exercise cover a variety of fundamental concepts in Python and are designed to help individuals improve their coding skills and problem-solving abilities.**\n",
        "\n",
        "The submission is due on 01/31/2024 11:59 PM. This submission is worth 40 points in total.\n"
      ]
    },
    {
      "cell_type": "markdown",
      "source": [
        "(1) Write a Python program that  prompts the user to input the length and width of a rectangle, and then calculates and displays the area of the rectangle."
      ],
      "metadata": {
        "id": "FBKvD6O_TY6e"
      }
    },
    {
      "cell_type": "code",
      "source": [
        "# write your answer here\n",
        "length=int(input(\"enter length  \"))\n",
        "width=int(input(\"enter width  \"))\n",
        "area=length*width\n",
        "print(area)\n"
      ],
      "metadata": {
        "id": "cikVKDXdTbzE",
        "colab": {
          "base_uri": "https://localhost:8080/"
        },
        "outputId": "32be5ef4-e470-4961-ea02-5ed6c262c557"
      },
      "execution_count": 4,
      "outputs": [
        {
          "output_type": "stream",
          "name": "stdout",
          "text": [
            "enter length  2\n",
            "enter width  3\n",
            "6\n"
          ]
        }
      ]
    },
    {
      "cell_type": "markdown",
      "source": [
        "(2) Create a Python program that interactively takes two numerical inputs from the user and swaps their values without utilizing an extra variable."
      ],
      "metadata": {
        "id": "E9RqrlwdTfvl"
      }
    },
    {
      "cell_type": "code",
      "source": [
        "num1 = int(input(\"Enter first number: \"))\n",
        "num2 = int(input(\"Enter second number: \"))\n",
        "print(\"Before swapping::\")\n",
        "print(\"Number 1 =\", num1)\n",
        "print(\"Number 2 =\", num2)\n",
        "\n",
        "num1, num2 = num2, num1\n",
        "\n",
        "print(\"After swapping::\")\n",
        "print(\"Number 1 =\", num1)\n",
        "print(\"Number 2 =\", num2)\n"
      ],
      "metadata": {
        "id": "4XvRknixTh1g",
        "colab": {
          "base_uri": "https://localhost:8080/"
        },
        "outputId": "c8eb53e5-703f-48f9-db2b-795b9b04a1db"
      },
      "execution_count": 5,
      "outputs": [
        {
          "output_type": "stream",
          "name": "stdout",
          "text": [
            "Enter first number: 3\n",
            "Enter second number: 5\n",
            "Before swapping::\n",
            "Number 1 = 3\n",
            "Number 2 = 5\n",
            "After swapping::\n",
            "Number 1 = 5\n",
            "Number 2 = 3\n"
          ]
        }
      ]
    },
    {
      "cell_type": "markdown",
      "metadata": {
        "id": "03jb4GZsBkBS"
      },
      "source": [
        "(3) Write a Python script to determine and print the length of a user-input string."
      ]
    },
    {
      "cell_type": "code",
      "execution_count": 6,
      "metadata": {
        "id": "YaGLbSHHB8Ej",
        "colab": {
          "base_uri": "https://localhost:8080/"
        },
        "outputId": "35cfb14f-83a5-471d-bc68-24256aa80c46"
      },
      "outputs": [
        {
          "output_type": "stream",
          "name": "stdout",
          "text": [
            "Enter a string: sreekar\n",
            "The length of the string is: 7\n"
          ]
        }
      ],
      "source": [
        "# write your answer here\n",
        "user_string = input(\"Enter a string: \")\n",
        "\n",
        "string_length = len(user_string)\n",
        "\n",
        "print(\"The length of the string is:\", string_length)\n"
      ]
    },
    {
      "cell_type": "markdown",
      "metadata": {
        "id": "jJDe71iLB616"
      },
      "source": [
        "(4) Construct a Python program that counts and displays the occurrences of each character in a given string.\n",
        "\n",
        "Sample String: 'openai.ai',\n",
        "\n",
        "Expected Result: {'a': 2, 'i': 2, '.': 1, 'o': 1, 'p': 1, 'e': 1, 'n': 1}"
      ]
    },
    {
      "cell_type": "code",
      "execution_count": 7,
      "metadata": {
        "id": "MtKskTzbCLaU",
        "colab": {
          "base_uri": "https://localhost:8080/"
        },
        "outputId": "40b99649-2570-45f1-eef1-89db651e34f6"
      },
      "outputs": [
        {
          "output_type": "stream",
          "name": "stdout",
          "text": [
            "Enter the string: openai.ai\n",
            "Characters in 'openai.ai' and their counts:\n",
            "o: 1\n",
            "p: 1\n",
            "e: 1\n",
            "n: 1\n",
            "a: 2\n",
            "i: 2\n",
            ".: 1\n"
          ]
        }
      ],
      "source": [
        "# write your answer here\n",
        "input_str = input(\"Enter the string: \")\n",
        "\n",
        "char_dict = {}\n",
        "\n",
        "for char in input_str:\n",
        "    char_dict[char] = char_dict.get(char, 0) + 1\n",
        "\n",
        "print(f\"Characters in '{input_str}' and their counts:\")\n",
        "for key, value in char_dict.items():\n",
        "    print(f\"{key}: {value}\")\n",
        ""
      ]
    },
    {
      "cell_type": "markdown",
      "metadata": {
        "id": "55W9AMdXCSpV"
      },
      "source": [
        "(5) Design a Python code to calculate the sum of all elements in a user-provided list."
      ]
    },
    {
      "cell_type": "code",
      "execution_count": 9,
      "metadata": {
        "id": "I57NXsauCec2",
        "colab": {
          "base_uri": "https://localhost:8080/"
        },
        "outputId": "b4b9d474-6d52-491c-d44d-e6aa5b15d545"
      },
      "outputs": [
        {
          "output_type": "stream",
          "name": "stdout",
          "text": [
            "Enter number of elements : 3\n",
            "enter each element 1\n",
            "enter each element 3\n",
            "enter each element 5\n",
            "User list of numbers is:  [1, 3, 5]\n",
            "Sum of all elements is:  9\n"
          ]
        }
      ],
      "source": [
        "# write your answer here\n",
        "num_list = []\n",
        "\n",
        "n = int(input(\"Enter number of elements : \"))\n",
        "\n",
        "for i in range(0, n):\n",
        "    element = int(input(\"enter each element \"))\n",
        "    num_list.append(element)\n",
        "\n",
        "print(\"User list of numbers is: \", num_list)\n",
        "\n",
        "sum = 0\n",
        "for num in num_list:\n",
        "    sum += num\n",
        "print(\"Sum of all elements is: \", sum)"
      ]
    },
    {
      "cell_type": "markdown",
      "metadata": {
        "id": "4ulBZ6yhCi9F"
      },
      "source": [
        "(6) Write a Python program that modifies a given string by replacing all occurrences of its first character with '$', excluding the first character itself.\n",
        "\n",
        "\n",
        "Sample String : 'restart‘,\n",
        "\n",
        "Expected Result : 'resta\\$t'"
      ]
    },
    {
      "cell_type": "code",
      "execution_count": 10,
      "metadata": {
        "id": "Fj0XhwbBCw2o",
        "colab": {
          "base_uri": "https://localhost:8080/"
        },
        "outputId": "09131efc-8467-46cc-c225-8bc53c5f3fc0"
      },
      "outputs": [
        {
          "output_type": "stream",
          "name": "stdout",
          "text": [
            "Enter a string: restart\n",
            "new String:  resta$t\n"
          ]
        }
      ],
      "source": [
        "# write your answer here\n",
        "input_str = str(input('Enter a string: '))\n",
        "first_char = input_str[0]\n",
        "new_str = first_char\n",
        "\n",
        "for char in input_str[1:]:\n",
        "   if char == first_char:\n",
        "       new_str += '$'\n",
        "   else:\n",
        "       new_str += char\n",
        "\n",
        "print('new String: ', new_str)"
      ]
    },
    {
      "cell_type": "markdown",
      "source": [
        "(7) Write a Python program using a while loop to compute the factorial of a user-supplied number."
      ],
      "metadata": {
        "id": "qVXA3q7ET5JI"
      }
    },
    {
      "cell_type": "code",
      "source": [
        "# write your answer here\n",
        "def calculate_factorial(number):\n",
        "    factorial = 1\n",
        "    while number > 0:\n",
        "        factorial *= number\n",
        "        number -= 1\n",
        "    return factorial\n",
        "\n",
        "input_num = int(input(\"Enter a number to find factorial: \"))\n",
        "if input_num < 0:\n",
        "    print(\"negative numbers cannot have factorial\")\n",
        "else:\n",
        "    result = calculate_factorial(input_num)\n",
        "    print(\"The factorial of\", input_num, \"is:\", result)"
      ],
      "metadata": {
        "id": "Lbt7R6UkT7BA",
        "colab": {
          "base_uri": "https://localhost:8080/"
        },
        "outputId": "61a85a7f-57c2-4e39-b8f9-6171b4148554"
      },
      "execution_count": 11,
      "outputs": [
        {
          "output_type": "stream",
          "name": "stdout",
          "text": [
            "Enter a number to find factorial: 4\n",
            "The factorial of 4 is: 24\n"
          ]
        }
      ]
    },
    {
      "cell_type": "markdown",
      "source": [
        "(8) Create a program that accepts a list of numbers as input and outputs a new list containing only the even numbers."
      ],
      "metadata": {
        "id": "6YfbzXMNT--R"
      }
    },
    {
      "cell_type": "code",
      "source": [
        "# write your answer here\n",
        "num_list = []\n",
        "n = int(input(\"Enter number of elements: \"))\n",
        "\n",
        "for i in range(n):\n",
        "    num = int(input(\"Enter number \" + str(i+1) + \": \"))\n",
        "    num_list.append(num)\n",
        "\n",
        "print(\"User List: \" + str(num_list))\n",
        "\n",
        "even_num_list = []\n",
        "for num in num_list:\n",
        "    if num % 2 == 0:\n",
        "        even_num_list.append(num)\n",
        "\n",
        "print(\"Even Numbers List: \" + str(even_num_list))"
      ],
      "metadata": {
        "id": "54q7wMQPUAKu",
        "colab": {
          "base_uri": "https://localhost:8080/"
        },
        "outputId": "fc32699e-05b5-44ee-c1a8-607c8e9ff5b7"
      },
      "execution_count": 12,
      "outputs": [
        {
          "output_type": "stream",
          "name": "stdout",
          "text": [
            "Enter number of elements: 3\n",
            "Enter number 1: 2\n",
            "Enter number 2: 3\n",
            "Enter number 3: 5\n",
            "User List: [2, 3, 5]\n",
            "Even Numbers List: [2]\n"
          ]
        }
      ]
    },
    {
      "cell_type": "markdown",
      "metadata": {
        "id": "_bIP7s1MCzue"
      },
      "source": [
        "\n",
        "(9) Design a Python function to check if a number is prime.\n"
      ]
    },
    {
      "cell_type": "code",
      "execution_count": 13,
      "metadata": {
        "id": "w79QilHXD3Mg",
        "colab": {
          "base_uri": "https://localhost:8080/"
        },
        "outputId": "99369bb6-6788-4317-ac84-e4c8a418deb0"
      },
      "outputs": [
        {
          "output_type": "stream",
          "name": "stdout",
          "text": [
            "Enter a number to check whether it is prime or not: 13\n",
            "13 is prime\n"
          ]
        }
      ],
      "source": [
        "# write your answer here\n",
        "def is_prime(num):\n",
        "    if num <= 1:\n",
        "        return False\n",
        "    for i in range(2, int(num/2)+1):\n",
        "        if num % i == 0:\n",
        "            return False\n",
        "    return True\n",
        "n = int(input(\"Enter a number to check whether it is prime or not: \"))\n",
        "result = is_prime(n)\n",
        "if result == True:\n",
        "    print(f\"{n} is prime\")\n",
        "else:\n",
        "    print(f\"{n} is not prime number\")\n",
        ""
      ]
    },
    {
      "cell_type": "markdown",
      "metadata": {
        "id": "xCa2bK9aD4Q3"
      },
      "source": [
        "(10) Write a Python program to concatenate following dictionaries to create a new one.\n",
        "\n",
        "Sample Dictionary : dic1={1:10, 2:20}, dic2={3:30, 4:40}, dic3={5:50,6:60},\n",
        "\n",
        "Expected Result : {1: 10, 2: 20, 3: 30, 4: 40, 5: 50, 6: 60}\n"
      ]
    },
    {
      "cell_type": "code",
      "execution_count": 14,
      "metadata": {
        "id": "_z4aLqAbEET1",
        "colab": {
          "base_uri": "https://localhost:8080/"
        },
        "outputId": "bf54e10e-4e59-4261-d2b8-b49747823c5b"
      },
      "outputs": [
        {
          "output_type": "stream",
          "name": "stdout",
          "text": [
            "Enter number of dictionaries: 3\n",
            "Enter dict 1: \n",
            "{1: 10, 2: 20}\n",
            "Enter dict 2: \n",
            "{3:30, 4:40}\n",
            "Enter dict 3: \n",
            "{5:50, 6:60}\n",
            "\n",
            "3 dictionaries entered by user: \n",
            "{1: 10, 2: 20}\n",
            "{3: 30, 4: 40}\n",
            "{5: 50, 6: 60}\n",
            "\n",
            "Concatenated Dictionary: {1: 10, 2: 20, 3: 30, 4: 40, 5: 50, 6: 60}\n"
          ]
        }
      ],
      "source": [
        "dict_list = []\n",
        "\n",
        "num_dicts = int(input(\"Enter number of dictionaries: \"))\n",
        "\n",
        "for i in range(num_dicts):\n",
        "    print(f\"Enter dict {i+1}: \" )\n",
        "    dict_i = eval(input())\n",
        "    dict_list.append(dict_i)\n",
        "\n",
        "print()\n",
        "print(f\"{num_dicts} dictionaries entered by user: \")\n",
        "\n",
        "for item in dict_list:\n",
        "    print(item)\n",
        "\n",
        "result = {}\n",
        "for d in dict_list:\n",
        "    result.update(d)\n",
        "\n",
        "print()\n",
        "print(f\"Concatenated Dictionary: {result}\")"
      ]
    },
    {
      "cell_type": "markdown",
      "source": [
        "(11) Design a Python function that takes a tuple of integers as input and returns the largest and smallest elements."
      ],
      "metadata": {
        "id": "bkyZ2xSZUOst"
      }
    },
    {
      "cell_type": "code",
      "source": [
        "# write your answer here\n",
        "int_tuple = tuple(int(x) for x in input(\"Enter integer tuple: \").split())\n",
        "\n",
        "print(\"User Tuple Input:\", int_tuple)\n",
        "\n",
        "def find_min_max(int_tuple):\n",
        "  min_val = int_tuple[0]\n",
        "  max_val = int_tuple[0]\n",
        "\n",
        "  for item in int_tuple:\n",
        "    if item < min_val :\n",
        "      min_val = item\n",
        "    elif item > max_val:\n",
        "      max_val = item\n",
        "\n",
        "  return min_val, max_val\n",
        "min_num, max_num = find_min_max(int_tuple)\n",
        "\n",
        "print(\"Minimum Number: \", min_num)\n",
        "print(\"Maximum Number: \", max_num)\n"
      ],
      "metadata": {
        "id": "3FdLRBKOUQEd",
        "colab": {
          "base_uri": "https://localhost:8080/"
        },
        "outputId": "90181cea-d815-4e68-d41f-eedb0cc869b6"
      },
      "execution_count": 15,
      "outputs": [
        {
          "output_type": "stream",
          "name": "stdout",
          "text": [
            "Enter integer tuple: 10 13 17\n",
            "User Tuple Input: (10, 13, 17)\n",
            "Minimum Number:  10\n",
            "Maximum Number:  17\n"
          ]
        }
      ]
    },
    {
      "cell_type": "markdown",
      "source": [
        "(12) Write a Python program that counts the frequency of each character in a given string and stores it in a dictionary."
      ],
      "metadata": {
        "id": "O0TVi3gKUTpp"
      }
    },
    {
      "cell_type": "code",
      "source": [
        "# write your answer here\n",
        "input_str = input('Enter a string: ')\n",
        "char_freq = {}\n",
        "\n",
        "for char in input_str:\n",
        "    if char in char_freq:\n",
        "        char_freq[char] += 1\n",
        "    else:\n",
        "        char_freq[char] = 1\n",
        "print(\"Character frequencies:\")\n",
        "\n",
        "for key, value in char_freq.items():\n",
        "    print(f\"{key} : {value}\")"
      ],
      "metadata": {
        "id": "lAtfSfZXUU-h",
        "colab": {
          "base_uri": "https://localhost:8080/"
        },
        "outputId": "9d33c195-036d-4006-8848-d0ac508ac6a7"
      },
      "execution_count": 16,
      "outputs": [
        {
          "output_type": "stream",
          "name": "stdout",
          "text": [
            "Enter a string: sreekar\n",
            "Character frequencies:\n",
            "s : 1\n",
            "r : 2\n",
            "e : 2\n",
            "k : 1\n",
            "a : 1\n"
          ]
        }
      ]
    },
    {
      "cell_type": "markdown",
      "metadata": {
        "id": "0v48Vqa7FrQh"
      },
      "source": [
        "(13) Implement a Python script to identify duplicate elements in a provided array of integers. Return -1 if there are no duplicates."
      ]
    },
    {
      "cell_type": "code",
      "execution_count": 17,
      "metadata": {
        "id": "7WEmgq-DF2P1",
        "colab": {
          "base_uri": "https://localhost:8080/"
        },
        "outputId": "5be0cf1e-d417-40c3-f7b2-53c27b9b1656"
      },
      "outputs": [
        {
          "output_type": "stream",
          "name": "stdout",
          "text": [
            "Enter an array of integers separated by spaces: 1 3 5\n",
            "No duplicates found.\n"
          ]
        }
      ],
      "source": [
        "# write your answer here\n",
        "def find_duplicates(arr):\n",
        "    element_count = {}\n",
        "\n",
        "    for num in arr:\n",
        "        if num in element_count:\n",
        "            element_count[num] += 1\n",
        "        else:\n",
        "            element_count[num] = 1\n",
        "\n",
        "    duplicates = [num for num, count in element_count.items() if count > 1]\n",
        "    return duplicates if duplicates else -1\n",
        "\n",
        "user_array = input(\"Enter an array of integers separated by spaces: \")\n",
        "user_array = [int(num) for num in user_array.split()]\n",
        "\n",
        "result_duplicates = find_duplicates(user_array)\n",
        "\n",
        "if result_duplicates == -1:\n",
        "    print(\"No duplicates found.\")\n",
        "else:\n",
        "    print(\"Duplicate elements:\", result_duplicates)\n"
      ]
    },
    {
      "cell_type": "markdown",
      "metadata": {
        "id": "vD5PYLMuGga_"
      },
      "source": [
        "(14) Write a Python script to find the common elements between two lists."
      ]
    },
    {
      "cell_type": "code",
      "execution_count": 18,
      "metadata": {
        "id": "t0D5kdJUGjjw",
        "colab": {
          "base_uri": "https://localhost:8080/"
        },
        "outputId": "98a253c9-3642-4219-88e1-fa29f6614baf"
      },
      "outputs": [
        {
          "output_type": "stream",
          "name": "stdout",
          "text": [
            "Enter first list: 1 3 5\n",
            "Enter second list: 2 5 6\n",
            "\n",
            "First list: [1, 3, 5]\n",
            "Second list: [2, 5, 6]\n",
            "\n",
            "Common elements: [5]\n"
          ]
        }
      ],
      "source": [
        "# write your answer here\n",
        "list1 = list(map(int,input(\"Enter first list: \").strip().split()))\n",
        "\n",
        "list2 = list(map(int,input(\"Enter second list: \").strip().split()))\n",
        "\n",
        "print()\n",
        "print(\"First list:\", list1)\n",
        "print(\"Second list:\", list2)\n",
        "common = []\n",
        "for i in list1:\n",
        "    if i in list2:\n",
        "        common.append(i)\n",
        "\n",
        "print()\n",
        "if len(common)==0:\n",
        "    print(\"No common elements\")\n",
        "else:\n",
        "    print(\"Common elements:\", common)"
      ]
    },
    {
      "cell_type": "markdown",
      "metadata": {
        "id": "uHkd-y5VhVWC"
      },
      "source": [
        "(15) Write a Python program to randomly divide the students in this class into six groups for term projects, each group should have at least 4 students but no more than 6 students (including 6).\n",
        "\n",
        "Here is the students list:\n",
        "\n",
        "student_list_spring_2024=[rb0846,\n",
        "ac1964,\n",
        "hc0612,\n",
        "md0912,\n",
        "ad1198,\n",
        "md0894,\n",
        "md0825,\n",
        "vg0598,\n",
        "vg0433,\n",
        "mh1068,\n",
        "yj0173,\n",
        "pk0553,\n",
        "tk0411,\n",
        "srk0204,\n",
        "sk2922,\n",
        "sk2936,\n",
        "mk1302,\n",
        "mk1317,\n",
        "tk0412,\n",
        "vk0656,\n",
        "sm2985,\n",
        "mm2372,\n",
        "un0045,\n",
        "an0892,\n",
        "sn0913,\n",
        "gp0252,\n",
        "ap1484,\n",
        "mr1765,\n",
        "sr1385,\n",
        "sr1335,\n",
        "hs0665,\n",
        "ms2060,\n",
        "gt0217,\n",
        "nt0385,\n",
        "tv0186,\n",
        "sv1394,\n",
        "sv1752,\n",
        "sv1555,\n",
        "sy0594\n",
        "]\n"
      ]
    },
    {
      "cell_type": "code",
      "execution_count": null,
      "metadata": {
        "id": "3iGbmcOBhTwy"
      },
      "outputs": [],
      "source": [
        "# write your answer here\n"
      ]
    },
    {
      "cell_type": "markdown",
      "metadata": {
        "id": "fmZ9vX20Qs3d"
      },
      "source": [
        "(16) Create a program that takes a positive integer 'n' as input and prints the count of even numbers from 1 to 'n'. Optimize the loop using the break statement."
      ]
    },
    {
      "cell_type": "code",
      "execution_count": 20,
      "metadata": {
        "id": "W8Jw6sWMQs3d",
        "colab": {
          "base_uri": "https://localhost:8080/"
        },
        "outputId": "4b675793-f939-4be6-acfb-16c2afdd0ef0"
      },
      "outputs": [
        {
          "output_type": "stream",
          "name": "stdout",
          "text": [
            "Enter  positive integer : 5\n",
            "Count of even numbers from 1 to 5 is 2\n"
          ]
        }
      ],
      "source": [
        "# write your answer here\n",
        "\n",
        "def count_even_numbers(n):\n",
        "    count = 0\n",
        "\n",
        "    for num in range(1, n + 1):\n",
        "        if num % 2 == 0:\n",
        "            count += 1\n",
        "        else:\n",
        "            if num > n:\n",
        "                break\n",
        "    return count\n",
        "input = input(\"Enter  positive integer : \")\n",
        "\n",
        "try:\n",
        "    n = int(input)\n",
        "    if n <= 0:\n",
        "        raise ValueError(\"Please enter a positive integer.\")\n",
        "except ValueError as e:\n",
        "    print(f\"Error: {e}\")\n",
        "else:\n",
        "    result_count = count_even_numbers(n)\n",
        "    print(f\"Count of even numbers from 1 to {n} is {result_count}\")\n"
      ]
    },
    {
      "cell_type": "markdown",
      "metadata": {
        "id": "hvq4APMhQs3d"
      },
      "source": [
        "(17) Develop a Python function called 'count_vowels' that takes a string as input and returns the count of vowels (both lowercase and uppercase) present in the string, ignoring spaces and non-alphabetic characters."
      ]
    },
    {
      "cell_type": "code",
      "execution_count": 19,
      "metadata": {
        "id": "ZnoxhSglQs3d",
        "colab": {
          "base_uri": "https://localhost:8080/"
        },
        "outputId": "fd4d4563-f796-47fa-b41a-65af4c3ea2cc"
      },
      "outputs": [
        {
          "output_type": "stream",
          "name": "stdout",
          "text": [
            "Enter a string: sreekar\n",
            "Number of vowels in \"sreekar\": 3\n"
          ]
        }
      ],
      "source": [
        "def count_vowels(input_string):\n",
        "    num_vowels = 0\n",
        "    vowels = set('aeiouAEIOU')\n",
        "\n",
        "    for char in input_string:\n",
        "        if char in vowels:\n",
        "            num_vowels += 1\n",
        "\n",
        "    return num_vowels\n",
        "\n",
        "# Input from the user\n",
        "strg = input('Enter a string: ')\n",
        "\n",
        "# Counting vowels and displaying the result\n",
        "num_vowels = count_vowels(strg)\n",
        "print(f'Number of vowels in \"{strg}\": {num_vowels}')"
      ]
    },
    {
      "cell_type": "markdown",
      "source": [
        "(18) Create a custom exception named ValueTooSmallError in Python. Write a program that takes user input for an age, and if the entered age is less than 18, raise the ValueTooSmallError with an appropriate error message."
      ],
      "metadata": {
        "id": "55FWoSJPVVM6"
      }
    },
    {
      "cell_type": "code",
      "source": [
        "class AgeTooSmallError(Exception):\n",
        "    def __init__(self, message=\"Age is too small\"):\n",
        "        self.message = message\n",
        "        super().__init__(self.message)\n",
        "\n",
        "def validate_user_age(age_input):\n",
        "    if age_input < 18:\n",
        "        raise AgeTooSmallError(\"Age must be 18 or older\")\n",
        "\n",
        "try:\n",
        "    user_age_input = int(input(\"Enter your age: \"))\n",
        "    validate_user_age(user_age_input)\n",
        "    print(f\"Entered age: {user_age_input}\")\n",
        "except ValueError:\n",
        "    print(\"Invalid input. Please enter a valid integer for age.\")\n",
        "except AgeTooSmallError as error:\n",
        "    print(f\"Error: {error}\")\n"
      ],
      "metadata": {
        "id": "hwtr1wZmVX5A",
        "colab": {
          "base_uri": "https://localhost:8080/"
        },
        "outputId": "897b1766-b2e2-4a6b-c0f3-319b45353623"
      },
      "execution_count": 3,
      "outputs": [
        {
          "output_type": "stream",
          "name": "stdout",
          "text": [
            "Enter your age: 2\n",
            "Error: Age must be 18 or older\n"
          ]
        }
      ]
    },
    {
      "cell_type": "markdown",
      "source": [
        "(19) Develop a script that reverses a given string without using built-in reverse functions."
      ],
      "metadata": {
        "id": "Q9ecagcaVazW"
      }
    },
    {
      "cell_type": "code",
      "source": [
        "def reverse_string(input_str):\n",
        "    reversed_str = \"\"\n",
        "\n",
        "    for char in input_str[::-1]:\n",
        "        reversed_str += char\n",
        "    return reversed_str\n",
        "\n",
        "user_input = input(\"Enter a string: \")\n",
        "result = reverse_string(user_input)\n",
        "print(f\"Reversed string: {result}\")\n"
      ],
      "metadata": {
        "id": "gycgckoAVZjR",
        "colab": {
          "base_uri": "https://localhost:8080/"
        },
        "outputId": "eed4baf5-ee6f-4e1e-8a65-8cdfb4114562"
      },
      "execution_count": 2,
      "outputs": [
        {
          "output_type": "stream",
          "name": "stdout",
          "text": [
            "Enter a string: sreekar\n",
            "Reversed string: rakeers\n"
          ]
        }
      ]
    },
    {
      "cell_type": "markdown",
      "source": [
        "(20) Implement a Python script to generate a random password of a specified length."
      ],
      "metadata": {
        "id": "ZFG6RibifMLu"
      }
    },
    {
      "cell_type": "code",
      "source": [
        "import random\n",
        "import string\n",
        "\n",
        "class PasswordGenerator:\n",
        "    def __init__(self, length):\n",
        "        self.length = length\n",
        "\n",
        "    def generate_random_password(self):\n",
        "        characters = string.ascii_letters + string.digits + string.punctuation\n",
        "        password = ''.join(random.choice(characters) for _ in range(self.length))\n",
        "\n",
        "        return password\n",
        "desired_length = int(input(\"Enter the desired length of the password: \"))\n",
        "password_generator = PasswordGenerator(desired_length)\n",
        "generated_password = password_generator.generate_random_password()\n",
        "print(f\"Generated Password: {generated_password}\")\n"
      ],
      "metadata": {
        "id": "BFVrkEi9fNiD",
        "colab": {
          "base_uri": "https://localhost:8080/"
        },
        "outputId": "9b79bb81-fd08-4b83-a0ab-356f10adfdd0"
      },
      "execution_count": 1,
      "outputs": [
        {
          "output_type": "stream",
          "name": "stdout",
          "text": [
            "Enter the desired length of the password: 5\n",
            "Generated Password: RWq7r\n"
          ]
        }
      ]
    },
    {
      "cell_type": "markdown",
      "source": [
        "# Try these questions:"
      ],
      "metadata": {
        "id": "6SmvS7nSfbj8"
      }
    },
    {
      "cell_type": "markdown",
      "source": [
        "(21) Define a base class called 'Vehicle' with attributes make and model. Create a derived class Car that inherits from Vehicle and has an additional attribute 'num_doors'. Demonstrate an example of creating an instance of the 'Car' class and accessing its attributes."
      ],
      "metadata": {
        "id": "cboAr5pEWUf5"
      }
    },
    {
      "cell_type": "code",
      "source": [
        "# write your answer here\n"
      ],
      "metadata": {
        "id": "phs9gciMWWAW"
      },
      "execution_count": null,
      "outputs": []
    },
    {
      "cell_type": "markdown",
      "source": [
        "(22) Create a class called 'Shape' with a method calculate_area(). Implement two derived classes 'Circle' and 'Rectangle' that inherit from Shape and override the calculate_area() method. Demonstrate polymorphism by creating instances of both derived classes and calling the calculate_area() method."
      ],
      "metadata": {
        "id": "J8HHefNtePwd"
      }
    },
    {
      "cell_type": "code",
      "source": [
        "# write your answer here"
      ],
      "metadata": {
        "id": "btnMmUZDeRhS"
      },
      "execution_count": null,
      "outputs": []
    },
    {
      "cell_type": "markdown",
      "source": [
        "(23) Write a Python program that prompts the user to enter two numbers and perform a division operation. Handle exceptions for both zero division and invalid input (non-numeric input). Display appropriate error messages for each type of exception and ensure the program does not crash due to these errors."
      ],
      "metadata": {
        "id": "z0oqEAlTeMUS"
      }
    },
    {
      "cell_type": "code",
      "source": [
        "# write your answer here"
      ],
      "metadata": {
        "id": "yjdc1zM1eMAs"
      },
      "execution_count": null,
      "outputs": []
    },
    {
      "cell_type": "markdown",
      "source": [
        "# Mandatory Question"
      ],
      "metadata": {
        "id": "sZOhks1dXWEe"
      }
    },
    {
      "cell_type": "markdown",
      "source": [
        "**Important:**\n",
        "Reflecting on the first three lectures and the exercises you've completed, please provide feedback on your learning experience. Share your thoughts on whether the material covered was clear, the exercises were helpful, and if you feel more confident in applying Python programming concepts. Additionally, mention any specific areas where you would like more clarification or topics you would like to explore further in future lectures. Your feedback is valuable in shaping the course for an effective learning journey."
      ],
      "metadata": {
        "id": "eqmHVEwaWhbV"
      }
    },
    {
      "cell_type": "markdown",
      "source": [
        "Write your response here."
      ],
      "metadata": {
        "id": "HlpXOT9wXQAd"
      }
    },
    {
      "cell_type": "code",
      "source": [
        "#I feel that it was too fast as a beginer to python coding ,still lot of things to learn and remember. I expect you to givemore time on basic python programming instead of keep running the course."
      ],
      "metadata": {
        "id": "Dq2aOZU7XIke"
      },
      "execution_count": 23,
      "outputs": []
    },
    {
      "cell_type": "code",
      "source": [
        "#course should be designed in the way that was understandable to everyone. also I feel it was too heavy for me. I still lack of knowledge on class, objects and opops concepts ."
      ],
      "metadata": {
        "id": "rwJDL3EUoPj4"
      },
      "execution_count": null,
      "outputs": []
    }
  ],
  "metadata": {
    "colab": {
      "provenance": []
    },
    "kernelspec": {
      "display_name": "Python 3 (ipykernel)",
      "language": "python",
      "name": "python3"
    },
    "language_info": {
      "codemirror_mode": {
        "name": "ipython",
        "version": 3
      },
      "file_extension": ".py",
      "mimetype": "text/x-python",
      "name": "python",
      "nbconvert_exporter": "python",
      "pygments_lexer": "ipython3",
      "version": "3.9.12"
    }
  },
  "nbformat": 4,
  "nbformat_minor": 0
}