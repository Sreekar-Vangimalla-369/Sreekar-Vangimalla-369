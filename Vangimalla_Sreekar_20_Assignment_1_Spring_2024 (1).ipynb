{
  "cells": [
    {
      "cell_type": "markdown",
      "metadata": {
        "id": "view-in-github"
      },
      "source": [
        "<a href=\"https://colab.research.google.com/github/unt-iialab/INFO5731_Spring2020/blob/master/Assignments/INFO5731_Assignment_One.ipynb\" target=\"_parent\"><img src=\"https://colab.research.google.com/assets/colab-badge.svg\" alt=\"Open In Colab\"/></a>"
      ]
    },
    {
      "cell_type": "markdown",
      "metadata": {
        "id": "Ryk8D1Q4Wsrp"
      },
      "source": [
        "# **INFO5731 Assignment One**"
      ]
    },
    {
      "cell_type": "markdown",
      "source": [
        "This assignment includes range of programming tasks and data analysis exercises, aiming to enhance your Python skills and proficiency in string manipulation, numerical computations, and data science. Follow the instructions carefully and design well-structured Python programs to address each question.\n",
        "\n",
        "Late Submission will have a penalty of 10% reduction for each day after the deadline."
      ],
      "metadata": {
        "id": "qcP6re2g5A5r"
      }
    },
    {
      "cell_type": "markdown",
      "metadata": {
        "id": "JkzR8cFAyGik"
      },
      "source": [
        "# Question 1 (10 points).\n",
        "\n",
        "The formula that describes the volume V of a hemisphere with radius r is the following:\n",
        "\n",
        "$ V=\\frac{2}{3}\\ast\\ \\pi\\ast\\ r^3 $\n",
        "\n",
        "Write a program to calculate the value of V when r is in the range of even numbers from 1-20. Output the result in the following format:\n",
        "\n",
        "\tr\tV\n",
        "\t2\t…\n",
        "\t4\t…\n",
        "\t6\t…\n",
        "\t.\n",
        "\t.\n",
        "\t.\n",
        "\t20\t…\n"
      ]
    },
    {
      "cell_type": "code",
      "execution_count": 12,
      "metadata": {
        "id": "jDyTKYs-yGit",
        "colab": {
          "base_uri": "https://localhost:8080/"
        },
        "outputId": "7c8bd2db-597c-4b18-80b8-cc11eeeb2e21"
      },
      "outputs": [
        {
          "output_type": "stream",
          "name": "stdout",
          "text": [
            "r\tV\n",
            "2\t16.76\n",
            "4\t134.04\n",
            "6\t452.39\n",
            "8\t1072.33\n",
            "10\t2094.40\n",
            "12\t3619.11\n",
            "14\t5747.02\n",
            "16\t8578.64\n",
            "18\t12214.51\n",
            "20\t16755.16\n"
          ]
        }
      ],
      "source": [
        "import math\n",
        "print(\"r\\tV\")\n",
        "for r in range(2, 21, 2):\n",
        "\n",
        "    V = (2/3) * math.pi * pow(r, 3)\n",
        "    print(f\"{r}\\t{V:.2f}\")"
      ]
    },
    {
      "cell_type": "markdown",
      "metadata": {
        "id": "90_NR8c5XGWc"
      },
      "source": [
        "# Question 2 (20 points)\n",
        "\n",
        "(a) Write a Python program to generate a sequence of 12 random numbers falling within the range of 50 to 150.\n",
        "\n",
        "(b) Arrange the generated numbers in ascending order. Display the sorted list.\n",
        "\n",
        "(c) Extend the program to arrange the numbers in descending order as well. Present the sorted list accordingly.\n",
        "\n",
        "(d) Compute and output the average of the entire group of generated numbers.\n",
        "\n",
        "(e) Enhance the program to calculate and display the average of the first 6 numbers from both the ascending and descending sorted lists."
      ]
    },
    {
      "cell_type": "code",
      "execution_count": 13,
      "metadata": {
        "id": "5QX6bJjGWXY9",
        "colab": {
          "base_uri": "https://localhost:8080/"
        },
        "outputId": "0c67e6ca-05f3-4a9a-982b-353a3e47b2e3"
      },
      "outputs": [
        {
          "output_type": "stream",
          "name": "stdout",
          "text": [
            "Original Random Numbers:\n",
            "[73, 63, 131, 92, 66, 77, 143, 56, 115, 87, 50, 114]\n",
            "\n",
            "Numbers Sorted Ascending:\n",
            "[50, 56, 63, 66, 73, 77, 87, 92, 114, 115, 131, 143]\n",
            "\n",
            "Numbers Sorted Descending:\n",
            "[143, 131, 115, 114, 92, 87, 77, 73, 66, 63, 56, 50]\n",
            "\n",
            "Overall Average: 88.92\n",
            "\n",
            "Average of First 6 Ascending: 113.67\n",
            "Average of First 6 Descending: 64.17\n"
          ]
        }
      ],
      "source": [
        "import random\n",
        "\n",
        "random_nums = random.sample(range(50, 151), 12)\n",
        "#question a:\n",
        "print(\"Original Random Numbers:\")\n",
        "print(random_nums)\n",
        "\n",
        "# Question b:  ascending order\n",
        "random_nums.sort()\n",
        "print(\"\\nNumbers Sorted Ascending:\")\n",
        "print(random_nums)\n",
        "\n",
        "# Question C: descending order\n",
        "random_nums.sort(reverse=True)\n",
        "print(\"\\nNumbers Sorted Descending:\")\n",
        "print(random_nums)\n",
        "\n",
        "# Question D: average\n",
        "total = sum(random_nums)\n",
        "avg = total / len(random_nums)\n",
        "print(f\"\\nOverall Average: {avg:.2f}\")\n",
        "\n",
        "# Question E:\n",
        "asc_list = random_nums[0:6]\n",
        "asc_avg = sum(asc_list) / len(asc_list)\n",
        "desc_list = random_nums[-6:]\n",
        "desc_avg = sum(desc_list) / len(desc_list)\n",
        "\n",
        "print(f\"\\nAverage of First 6 of Ascending order: {asc_avg:.2f}\")\n",
        "print(f\"Average of First 6 of Descending order: {desc_avg:.2f}\")"
      ]
    },
    {
      "cell_type": "markdown",
      "metadata": {
        "id": "1F_PZdH9Sh49"
      },
      "source": [
        "# Question 3 (20 points).\n",
        "\n",
        "Create a Python program that encompasses various string manipulation task:\n",
        "\n",
        "(a) Prompt the user to input two sentences.\n",
        "\n",
        "(b) Transform each sentence into a list, where each element corresponds to a word in the sentence. For example, if the sentences are \"Hello, how are you doing today?\" and \"This is an example sentence for the program!\"\n",
        "\n",
        "The program should output:\n",
        "['Hello', ',', 'how', 'are', 'you', 'doing', 'today', '?', 'This', 'is', 'an', 'example', 'sentence', 'for', 'the', 'program', '!']\n",
        "\n",
        "(c) Compare the two sentences. Print out a list of words that occur in both sentences.\n",
        "\n",
        "(d) Remove any punctuation from the sentence and print the sanitized sentences. It should remove at least the following characters, but it can remove more: period(“.”), comma (“,”), semicolon (“;”), and colon (“:”).\n",
        "\n",
        "(e) Count the number of vowels in each of the sentences. Print out each vowel and the occurrences  in the each of the two sentences separately, such as:\n",
        "\n",
        "Sentence1: a:2, e:2, i:0, etc.\n",
        "Sentence2: a:1, e:2, i:2, etc.\n",
        "\n",
        "Design a well-structured Python program to execute these tasks efficiently."
      ]
    },
    {
      "cell_type": "code",
      "execution_count": 2,
      "metadata": {
        "id": "Y0oOSlsOS0cq",
        "colab": {
          "base_uri": "https://localhost:8080/"
        },
        "outputId": "3c814b50-3c90-4417-e583-498c225daac7"
      },
      "outputs": [
        {
          "output_type": "stream",
          "name": "stdout",
          "text": [
            "Enter first sentence: He is a good man.\n",
            "Enter second sentence: he is also good father.\n",
            "\n",
            "Word list 1: ['He', 'is', 'a', 'good', 'man']\n",
            "Word list 2: ['he', 'is', 'also', 'good', 'father']\n",
            "\n",
            "Common words: ['is', 'good']\n",
            "\n",
            "clean Sentence 1: He is a good man\n",
            "clean Sentence 2: he is also good father\n",
            "\n",
            "Vowel count sentence 1: {'a': 2, 'e': 1, 'i': 1, 'o': 2, 'u': 0}\n",
            "Vowel count sentence 2: {'a': 2, 'e': 2, 'i': 1, 'o': 3, 'u': 0}\n"
          ]
        }
      ],
      "source": [
        "sentence1 = input(\"Enter first sentence: \")\n",
        "sentence2 = input(\"Enter second sentence: \")\n",
        "\n",
        "words1 = sentence1.replace(\",\", \"\").replace(\".\", \"\").replace(\"?\", \"\").split()\n",
        "words2 = sentence2.replace(\",\", \"\").replace(\".\", \"\").replace(\"!\", \"\").split()\n",
        "\n",
        "print(f\"\\nWord list 1: {words1}\")\n",
        "print(f\"Word list 2: {words2}\")\n",
        "\n",
        "common = []\n",
        "for word in words1:\n",
        "    if word in words2:\n",
        "        common.append(word)\n",
        "print(f\"\\nCommon words: {common}\")\n",
        "\n",
        "clean_sent1 = sentence1.translate(str.maketrans('', '', '.,;:'))\n",
        "clean_sent2 = sentence2.translate(str.maketrans('', '', '.,;!:'))\n",
        "\n",
        "print(f\"\\nclean Sentence 1: {clean_sent1}\")\n",
        "print(f\"clean Sentence 2: {clean_sent2}\")\n",
        "\n",
        "vowels = 'aeiou'\n",
        "\n",
        "vcount1 = {x:0 for x in vowels}\n",
        "for char in clean_sent1.lower():\n",
        "    if char in vowels:\n",
        "        vcount1[char] += 1\n",
        "\n",
        "print(\"\\nVowel count sentence 1:\", vcount1)\n",
        "\n",
        "vcount2 = {x:0 for x in vowels}\n",
        "for char in clean_sent2.lower():\n",
        "    if char in vowels:\n",
        "        vcount2[char] += 1\n",
        "\n",
        "print(\"Vowel count sentence 2:\", vcount2)"
      ]
    },
    {
      "cell_type": "markdown",
      "source": [
        "# Question 4 (20 Points)"
      ],
      "metadata": {
        "id": "OP4-5qxAtInv"
      }
    },
    {
      "cell_type": "markdown",
      "source": [
        "Design and implement a simple command-line calculator program. The program should handle both integers and floating-point numbers.\n",
        "\n",
        "(a) Write program that takes a mathematical expression as input and evaluates it. The program should support addition, subtraction, multiplication, and division.\n",
        "\n",
        "(b) Extend the calculator to handle parentheses in mathematical expressions. Implement the necessary logic to evaluate expressions with nested parentheses.\n",
        "\n",
        "(c) Enhance your calculator to include additional mathematical operations such as exponentiation, square root, and modulus.\n",
        "\n",
        "(d) Implement error handling in the calculator program. Handle cases such as division by zero and invalid input expressions. Provide meaningful error messages.\n",
        "\n",
        "(e) Implement a command to exit the calculator."
      ],
      "metadata": {
        "id": "uzN4_hDptK9U"
      }
    },
    {
      "cell_type": "code",
      "source": [
        "import math\n",
        "\n",
        "def calculate(expression):\n",
        "    try:\n",
        "        return eval(expression)\n",
        "    except ZeroDivisionError:\n",
        "        return \"Division by 0 error\"\n",
        "    except SyntaxError:\n",
        "        return \"Invalid expression\"\n",
        "\n",
        "print(\" Python Calculator\")\n",
        "\n",
        "while True:\n",
        "    expression = input(\"> \")\n",
        "\n",
        "    if expression.lower() == \"exit\":\n",
        "        break\n",
        "\n",
        "    result = calculate(expression)\n",
        "    print(result)\n",
        "\n",
        "print(\"Goodbye!\")"
      ],
      "metadata": {
        "id": "8nQnVxjJuYtu",
        "colab": {
          "base_uri": "https://localhost:8080/"
        },
        "outputId": "3f1e33eb-6c99-4555-f072-f83a6850003e"
      },
      "execution_count": 5,
      "outputs": [
        {
          "output_type": "stream",
          "name": "stdout",
          "text": [
            " Python Calculator\n",
            "> 2+(3*4)\n",
            "14\n",
            "> 2/0\n",
            "Division by 0 error\n",
            "> 21%4\n",
            "1\n",
            "> exit\n",
            "Goodbye!\n"
          ]
        }
      ]
    },
    {
      "cell_type": "markdown",
      "metadata": {
        "id": "z3tBE7E-Xn5X"
      },
      "source": [
        "# Question 5 (30 points).\n",
        "\n",
        "In the field of Data Science, data is often formatted as a comma-delimited (CSV) file, where each line in a file corresponds to a field's value. Refer to Chapter 9 (p. 106) for more information on comma-delimited files.\n",
        "\n",
        "To answer this question, you will need to download the file [Assignment1_denton_housing.csv](https://raw.githubusercontent.com/unt-iialab/info5731-spring2022/main/assignments/Assignment1_denton_housing.csv) included with this assignment. The file contains statistics about housing in the city of Denton from 2008 to 2014. Write a program to implement the following questions.\n",
        "\n",
        "(a) (5 pts) Calculate the difference in the number of Occupied Housing Units from year to year and print it. The difference must be calculated for the consecutive years such as 2008-2009, 2009-2010 etc. Finally, print the values in the ascending order.\n",
        "\n",
        "(b) (5 pts) For all the years, calculate the percentage of housing units which are vacant an occupied. Print the results in the following format:\n",
        "\n",
        "Year Vacant Housing Units Occupied Housing Units\n",
        "\n",
        "    2008  30%   70%                          \n",
        "\t2009 ----- -----\n",
        "\t2010 ----- -----\n",
        "    2011 ----- -----\n",
        "\t2012 ----- -----\n",
        "    2013 ----- -----\n",
        "\t2014 ----- -----\n",
        "  \n",
        "  \n",
        "\n",
        "(c) (10 pts) Calculate and print the valued and years in which the highest number of housing units were vacant and occupied. Print the results in the following format:  \n",
        "\n",
        "                              Year\tValue\n",
        "\tVacant Housing Units\t  -----   -----\n",
        "\tOccupied Housing Units\t-----   -----\n",
        "\n",
        "(d) (10 pts) Calculate the harmonic mean of the total housing units and print it out. You can find the information about harmonic mean here: https://ncalculators.com/statistics/harmonic-mean-calculator.htm"
      ]
    },
    {
      "cell_type": "code",
      "execution_count": 6,
      "metadata": {
        "id": "lqGYuHBhcsRH",
        "colab": {
          "base_uri": "https://localhost:8080/"
        },
        "outputId": "00433589-8f24-4c9a-fd7d-c48a276fcea7"
      },
      "outputs": [
        {
          "output_type": "stream",
          "name": "stdout",
          "text": [
            "(a) Occupied Housing Difference: [-5091.0, -2622.0, -1565.0, -1404.0, 303.0, 795.0]\n",
            "\n",
            "(c) Maximum Vacant and Occupied Housing:\n",
            "Maximum Vacant: Year - 2014, Value - 4483\n",
            "Maximum Occupied: Year - 2014, Value - 46295\n",
            "\n",
            "(d) Harmonic Mean of Total Housing Units: 44398.28543969185\n",
            "\n",
            "(b) Percentage of Vacant and Occupied Housing Units:\n",
            "2014: 5.73% Vacant, \t94.27% Occupied\n",
            "2013: 8.8% Vacant, \t91.2% Occupied\n",
            "2012: 6.68% Vacant, \t93.32% Occupied\n",
            "2011: 9.38% Vacant, \t90.62% Occupied\n",
            "2010: 8.14% Vacant, \t91.86% Occupied\n",
            "2009: 9.07% Vacant, \t90.93% Occupied\n",
            "2008: 10.88% Vacant, \t89.12% Occupied\n"
          ]
        }
      ],
      "source": [
        "import pandas as pd\n",
        "import statistics\n",
        "df = pd.read_csv(\"Assignment1_denton_housing.csv\")\n",
        "df.reset_index(drop=True, inplace=True)\n",
        "total_hu = df[df[\"title_field\"] == \"Total Housing Units\"][\"value\"]\n",
        "\n",
        "# Question a:\n",
        "occupied_hu = df[df[\"title_field\"] == \"Occupied Housing Units\"][\"value\"]\n",
        "diff = occupied_hu.diff().dropna().tolist()\n",
        "print(\"(a) Occupied Housing Difference:\", sorted(diff))\n",
        "\n",
        "# Question c:\n",
        "max_vacant = df[df[\"title_field\"] == \"Vacant Housing Units\"].max()\n",
        "max_occupied = df[df[\"title_field\"] == \"Occupied Housing Units\"].max()\n",
        "\n",
        "print(\"\\n(c) Maximum Vacant and Occupied Housing:\")\n",
        "print(f\"Maximum Vacant: Year - {int(max_vacant['year'])}, Value - {max_vacant['value']}\")\n",
        "print(f\"Maximum Occupied: Year - {int(max_occupied['year'])}, Value - {max_occupied['value']}\")\n",
        "\n",
        "# Question d:\n",
        "harmonic_mean = statistics.harmonic_mean(total_hu.dropna())\n",
        "print(\"\\n(d) Harmonic Mean of Total Housing Units:\", harmonic_mean)\n",
        "\n",
        "# Part b:\n",
        "print(\"\\n(b) Percentage of Vacant and Occupied Housing Units:\")\n",
        "for year in df[\"year\"].unique():\n",
        "    vacant_hu = df[(df[\"year\"] == year) & (df[\"title_field\"] == \"Vacant Housing Units\")][\"value\"].values[0]\n",
        "    occupied_hu = df[(df[\"year\"] == year) & (df[\"title_field\"] == \"Occupied Housing Units\")][\"value\"].values[0]\n",
        "    total_hu = df[(df[\"year\"] == year) & (df[\"title_field\"] == \"Total Housing Units\")][\"value\"].values[0]\n",
        "\n",
        "    vacant_pct = round((vacant_hu / total_hu) * 100, 2)\n",
        "    occupied_pct = round((occupied_hu / total_hu) * 100, 2)\n",
        "\n",
        "    print(f\"{year}: {vacant_pct}% Vacant, \\t{occupied_pct}% Occupied\")\n"
      ]
    },
    {
      "cell_type": "markdown",
      "source": [
        "# Mandatory Question\n",
        "\n",
        "Provide your thoughts on the assignment. What did you find challenging, and what aspects did you enjoy? Your opinion on the provided time to complete the assignment. Share any suggestions for improvement. Your feedback will be valuable for enhancing the learning experience."
      ],
      "metadata": {
        "id": "q8BFCvWp32cf"
      }
    },
    {
      "cell_type": "code",
      "source": [
        "# # I felt as challenging.  I learnt some new topics and I also tried to work on errors which made me to think about the other posibilites"
      ],
      "metadata": {
        "id": "_e557s2w4BpK"
      },
      "execution_count": null,
      "outputs": []
    }
  ],
  "metadata": {
    "colab": {
      "provenance": []
    },
    "kernelspec": {
      "display_name": "Python 3 (ipykernel)",
      "language": "python",
      "name": "python3"
    },
    "language_info": {
      "codemirror_mode": {
        "name": "ipython",
        "version": 3
      },
      "file_extension": ".py",
      "mimetype": "text/x-python",
      "name": "python",
      "nbconvert_exporter": "python",
      "pygments_lexer": "ipython3",
      "version": "3.9.12"
    }
  },
  "nbformat": 4,
  "nbformat_minor": 0
}